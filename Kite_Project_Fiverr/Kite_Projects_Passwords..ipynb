{
 "cells": [
  {
   "cell_type": "markdown",
   "metadata": {},
   "source": [
    "## PASSWORDS\n",
    "We have a dataset of passwords ranked by their popularity. All information about variables are given below. Our task here is to visualize this dataset in meaningful ways.\n",
    "\n",
    "\n",
    "\n",
    "| Variable          | Description  |        \n",
    "|--------------------|---------|\n",
    "| rank                | Popularity in their database of released passwords       |\n",
    "| password      | Actual text of the password       |\n",
    "| Category               | What category does the password fall in to?      |\n",
    "| Value | Time to crack by online guessing       |\n",
    "| time_unit                | Time unit to match with value      |\n",
    "| offline_crack_sec      | Time to crack offline in seconds       |\n",
    "| rank_alt                | Rank 2       |\n",
    "| strength | Quality of password where 10 is highest, 1 is lowest, please note that these are relative to these generally bad passwords |\n",
    "| font_size | Used to create the graphic for KIB|"
   ]
  },
  {
   "cell_type": "markdown",
   "metadata": {},
   "source": [
    "First Let's import all packages required for this task"
   ]
  },
  {
   "cell_type": "code",
   "execution_count": 1,
   "metadata": {},
   "outputs": [],
   "source": [
    "import pandas as pd\n",
    "import itertools\n",
    "import numpy as np\n",
    "import seaborn as sns\n",
    "import matplotlib.pyplot as plt\n",
    "from matplotlib.ticker import NullFormatter\n",
    "import matplotlib.ticker as ticker\n",
    "from sklearn import preprocessing\n",
    "from sklearn.model_selection import train_test_split\n",
    "from sklearn.linear_model import LogisticRegression\n",
    "from sklearn.metrics import jaccard_similarity_score\n",
    "from sklearn import metrics"
   ]
  },
  {
   "cell_type": "markdown",
   "metadata": {},
   "source": [
    "### DATA INPUTTING AND CLEANING\n",
    "\n",
    "Let's load our dataset and see what we are working with."
   ]
  },
  {
   "cell_type": "code",
   "execution_count": 2,
   "metadata": {},
   "outputs": [
    {
     "data": {
      "text/html": [
       "<div>\n",
       "<style scoped>\n",
       "    .dataframe tbody tr th:only-of-type {\n",
       "        vertical-align: middle;\n",
       "    }\n",
       "\n",
       "    .dataframe tbody tr th {\n",
       "        vertical-align: top;\n",
       "    }\n",
       "\n",
       "    .dataframe thead th {\n",
       "        text-align: right;\n",
       "    }\n",
       "</style>\n",
       "<table border=\"1\" class=\"dataframe\">\n",
       "  <thead>\n",
       "    <tr style=\"text-align: right;\">\n",
       "      <th></th>\n",
       "      <th>rank</th>\n",
       "      <th>password</th>\n",
       "      <th>category</th>\n",
       "      <th>value</th>\n",
       "      <th>time_unit</th>\n",
       "      <th>offline_crack_sec</th>\n",
       "      <th>rank_alt</th>\n",
       "      <th>strength</th>\n",
       "      <th>font_size</th>\n",
       "    </tr>\n",
       "  </thead>\n",
       "  <tbody>\n",
       "    <tr>\n",
       "      <td>0</td>\n",
       "      <td>1.0</td>\n",
       "      <td>password</td>\n",
       "      <td>password-related</td>\n",
       "      <td>6.91</td>\n",
       "      <td>years</td>\n",
       "      <td>2.170000e+00</td>\n",
       "      <td>1.0</td>\n",
       "      <td>8.0</td>\n",
       "      <td>11.0</td>\n",
       "    </tr>\n",
       "    <tr>\n",
       "      <td>1</td>\n",
       "      <td>2.0</td>\n",
       "      <td>123456</td>\n",
       "      <td>simple-alphanumeric</td>\n",
       "      <td>18.52</td>\n",
       "      <td>minutes</td>\n",
       "      <td>1.110000e-05</td>\n",
       "      <td>2.0</td>\n",
       "      <td>4.0</td>\n",
       "      <td>8.0</td>\n",
       "    </tr>\n",
       "    <tr>\n",
       "      <td>2</td>\n",
       "      <td>3.0</td>\n",
       "      <td>12345678</td>\n",
       "      <td>simple-alphanumeric</td>\n",
       "      <td>1.29</td>\n",
       "      <td>days</td>\n",
       "      <td>1.110000e-03</td>\n",
       "      <td>3.0</td>\n",
       "      <td>4.0</td>\n",
       "      <td>8.0</td>\n",
       "    </tr>\n",
       "    <tr>\n",
       "      <td>3</td>\n",
       "      <td>4.0</td>\n",
       "      <td>1234</td>\n",
       "      <td>simple-alphanumeric</td>\n",
       "      <td>11.11</td>\n",
       "      <td>seconds</td>\n",
       "      <td>1.110000e-07</td>\n",
       "      <td>4.0</td>\n",
       "      <td>4.0</td>\n",
       "      <td>8.0</td>\n",
       "    </tr>\n",
       "    <tr>\n",
       "      <td>4</td>\n",
       "      <td>5.0</td>\n",
       "      <td>qwerty</td>\n",
       "      <td>simple-alphanumeric</td>\n",
       "      <td>3.72</td>\n",
       "      <td>days</td>\n",
       "      <td>3.210000e-03</td>\n",
       "      <td>5.0</td>\n",
       "      <td>8.0</td>\n",
       "      <td>11.0</td>\n",
       "    </tr>\n",
       "    <tr>\n",
       "      <td>...</td>\n",
       "      <td>...</td>\n",
       "      <td>...</td>\n",
       "      <td>...</td>\n",
       "      <td>...</td>\n",
       "      <td>...</td>\n",
       "      <td>...</td>\n",
       "      <td>...</td>\n",
       "      <td>...</td>\n",
       "      <td>...</td>\n",
       "    </tr>\n",
       "    <tr>\n",
       "      <td>495</td>\n",
       "      <td>496.0</td>\n",
       "      <td>reddog</td>\n",
       "      <td>cool-macho</td>\n",
       "      <td>3.72</td>\n",
       "      <td>days</td>\n",
       "      <td>3.210000e-03</td>\n",
       "      <td>498.0</td>\n",
       "      <td>6.0</td>\n",
       "      <td>10.0</td>\n",
       "    </tr>\n",
       "    <tr>\n",
       "      <td>496</td>\n",
       "      <td>497.0</td>\n",
       "      <td>alexande</td>\n",
       "      <td>name</td>\n",
       "      <td>6.91</td>\n",
       "      <td>years</td>\n",
       "      <td>2.170000e+00</td>\n",
       "      <td>499.0</td>\n",
       "      <td>9.0</td>\n",
       "      <td>12.0</td>\n",
       "    </tr>\n",
       "    <tr>\n",
       "      <td>497</td>\n",
       "      <td>498.0</td>\n",
       "      <td>college</td>\n",
       "      <td>nerdy-pop</td>\n",
       "      <td>3.19</td>\n",
       "      <td>months</td>\n",
       "      <td>8.350000e-02</td>\n",
       "      <td>500.0</td>\n",
       "      <td>7.0</td>\n",
       "      <td>11.0</td>\n",
       "    </tr>\n",
       "    <tr>\n",
       "      <td>498</td>\n",
       "      <td>499.0</td>\n",
       "      <td>jester</td>\n",
       "      <td>name</td>\n",
       "      <td>3.72</td>\n",
       "      <td>days</td>\n",
       "      <td>3.210000e-03</td>\n",
       "      <td>501.0</td>\n",
       "      <td>7.0</td>\n",
       "      <td>11.0</td>\n",
       "    </tr>\n",
       "    <tr>\n",
       "      <td>499</td>\n",
       "      <td>500.0</td>\n",
       "      <td>passw0rd</td>\n",
       "      <td>password-related</td>\n",
       "      <td>92.27</td>\n",
       "      <td>years</td>\n",
       "      <td>2.902000e+01</td>\n",
       "      <td>502.0</td>\n",
       "      <td>28.0</td>\n",
       "      <td>21.0</td>\n",
       "    </tr>\n",
       "  </tbody>\n",
       "</table>\n",
       "<p>500 rows × 9 columns</p>\n",
       "</div>"
      ],
      "text/plain": [
       "      rank  password             category  value time_unit  offline_crack_sec  \\\n",
       "0      1.0  password     password-related   6.91     years       2.170000e+00   \n",
       "1      2.0    123456  simple-alphanumeric  18.52   minutes       1.110000e-05   \n",
       "2      3.0  12345678  simple-alphanumeric   1.29      days       1.110000e-03   \n",
       "3      4.0      1234  simple-alphanumeric  11.11   seconds       1.110000e-07   \n",
       "4      5.0    qwerty  simple-alphanumeric   3.72      days       3.210000e-03   \n",
       "..     ...       ...                  ...    ...       ...                ...   \n",
       "495  496.0    reddog           cool-macho   3.72      days       3.210000e-03   \n",
       "496  497.0  alexande                 name   6.91     years       2.170000e+00   \n",
       "497  498.0   college            nerdy-pop   3.19    months       8.350000e-02   \n",
       "498  499.0    jester                 name   3.72      days       3.210000e-03   \n",
       "499  500.0  passw0rd     password-related  92.27     years       2.902000e+01   \n",
       "\n",
       "     rank_alt  strength  font_size  \n",
       "0         1.0       8.0       11.0  \n",
       "1         2.0       4.0        8.0  \n",
       "2         3.0       4.0        8.0  \n",
       "3         4.0       4.0        8.0  \n",
       "4         5.0       8.0       11.0  \n",
       "..        ...       ...        ...  \n",
       "495     498.0       6.0       10.0  \n",
       "496     499.0       9.0       12.0  \n",
       "497     500.0       7.0       11.0  \n",
       "498     501.0       7.0       11.0  \n",
       "499     502.0      28.0       21.0  \n",
       "\n",
       "[500 rows x 9 columns]"
      ]
     },
     "execution_count": 2,
     "metadata": {},
     "output_type": "execute_result"
    }
   ],
   "source": [
    "df = pd.read_csv(\"passwords.csv\")\n",
    "#Dropping #NaN Values.\n",
    "df = df.dropna()\n",
    "df"
   ]
  },
  {
   "cell_type": "markdown",
   "metadata": {},
   "source": [
    "We can modify our DataFrame to make it easier to work with. In particular, values in the column __value__ has multiple units of measurement, as depicted by column __time_unit__. It would be better if these values are converted to seconds to make a better comparison with column __offline_crack_sec__.Variable __strength__ should be transformed so that each value ranges between 1 and 10 __font_size__ is an unnecessary and removing it from our dataset shouldn't hinder our viusal analysis."
   ]
  },
  {
   "cell_type": "code",
   "execution_count": 3,
   "metadata": {},
   "outputs": [
    {
     "data": {
      "text/html": [
       "<div>\n",
       "<style scoped>\n",
       "    .dataframe tbody tr th:only-of-type {\n",
       "        vertical-align: middle;\n",
       "    }\n",
       "\n",
       "    .dataframe tbody tr th {\n",
       "        vertical-align: top;\n",
       "    }\n",
       "\n",
       "    .dataframe thead th {\n",
       "        text-align: right;\n",
       "    }\n",
       "</style>\n",
       "<table border=\"1\" class=\"dataframe\">\n",
       "  <thead>\n",
       "    <tr style=\"text-align: right;\">\n",
       "      <th></th>\n",
       "      <th>rank</th>\n",
       "      <th>password</th>\n",
       "      <th>category</th>\n",
       "      <th>offline_crack_sec</th>\n",
       "      <th>rank_alt</th>\n",
       "      <th>strength_</th>\n",
       "      <th>online_guess</th>\n",
       "    </tr>\n",
       "  </thead>\n",
       "  <tbody>\n",
       "    <tr>\n",
       "      <td>0</td>\n",
       "      <td>1.0</td>\n",
       "      <td>password</td>\n",
       "      <td>password-related</td>\n",
       "      <td>2.170000e+00</td>\n",
       "      <td>1.0</td>\n",
       "      <td>1.666667</td>\n",
       "      <td>2.179414e+08</td>\n",
       "    </tr>\n",
       "    <tr>\n",
       "      <td>1</td>\n",
       "      <td>2.0</td>\n",
       "      <td>123456</td>\n",
       "      <td>simple-alphanumeric</td>\n",
       "      <td>1.110000e-05</td>\n",
       "      <td>2.0</td>\n",
       "      <td>0.833333</td>\n",
       "      <td>1.111200e+03</td>\n",
       "    </tr>\n",
       "    <tr>\n",
       "      <td>2</td>\n",
       "      <td>3.0</td>\n",
       "      <td>12345678</td>\n",
       "      <td>simple-alphanumeric</td>\n",
       "      <td>1.110000e-03</td>\n",
       "      <td>3.0</td>\n",
       "      <td>0.833333</td>\n",
       "      <td>1.114560e+05</td>\n",
       "    </tr>\n",
       "    <tr>\n",
       "      <td>3</td>\n",
       "      <td>4.0</td>\n",
       "      <td>1234</td>\n",
       "      <td>simple-alphanumeric</td>\n",
       "      <td>1.110000e-07</td>\n",
       "      <td>4.0</td>\n",
       "      <td>0.833333</td>\n",
       "      <td>1.111000e+01</td>\n",
       "    </tr>\n",
       "    <tr>\n",
       "      <td>4</td>\n",
       "      <td>5.0</td>\n",
       "      <td>qwerty</td>\n",
       "      <td>simple-alphanumeric</td>\n",
       "      <td>3.210000e-03</td>\n",
       "      <td>5.0</td>\n",
       "      <td>1.666667</td>\n",
       "      <td>3.214080e+05</td>\n",
       "    </tr>\n",
       "  </tbody>\n",
       "</table>\n",
       "</div>"
      ],
      "text/plain": [
       "   rank  password             category  offline_crack_sec  rank_alt  \\\n",
       "0   1.0  password     password-related       2.170000e+00       1.0   \n",
       "1   2.0    123456  simple-alphanumeric       1.110000e-05       2.0   \n",
       "2   3.0  12345678  simple-alphanumeric       1.110000e-03       3.0   \n",
       "3   4.0      1234  simple-alphanumeric       1.110000e-07       4.0   \n",
       "4   5.0    qwerty  simple-alphanumeric       3.210000e-03       5.0   \n",
       "\n",
       "   strength_  online_guess  \n",
       "0   1.666667  2.179414e+08  \n",
       "1   0.833333  1.111200e+03  \n",
       "2   0.833333  1.114560e+05  \n",
       "3   0.833333  1.111000e+01  \n",
       "4   1.666667  3.214080e+05  "
      ]
     },
     "execution_count": 3,
     "metadata": {},
     "output_type": "execute_result"
    }
   ],
   "source": [
    "#Creating a new modified Dataframe. Notice how font_size isn't included.\n",
    "df1 = df[['rank','password','category','value','time_unit','offline_crack_sec','rank_alt','strength']]\n",
    "\n",
    "#Transforming Variable Strength.\n",
    "df1['strength_']= (df1['strength']/48)*10\n",
    "\n",
    "#Each unit of measurement in 'value' will be converted to seconds and stored in dic_1.\n",
    "dic_1 = {'online_guess':[]}\n",
    "for i in df1['rank']:\n",
    "    if df1['time_unit'][int(i)-1] == 'years':\n",
    "        dic_1['online_guess'].append(df1['value'][int(i)-1]*3.154e+7)       \n",
    "    elif df1['time_unit'][int(i)-1] == 'months':\n",
    "        dic_1['online_guess'].append(df1['value'][int(i)-1]*2.628e+6)\n",
    "    elif df1['time_unit'][int(i)-1] == 'weeks':\n",
    "        dic_1['online_guess'].append(df1['value'][int(i)-1]*604800)\n",
    "    elif df1['time_unit'][int(i)-1] == 'days':\n",
    "        dic_1['online_guess'].append(df1['value'][int(i)-1]*86400)\n",
    "    elif df1['time_unit'][int(i)-1] == 'hours':\n",
    "        dic_1['online_guess'].append(df1['value'][int(i)-1]*3600)\n",
    "    elif df1['time_unit'][int(i)-1] == 'minutes':\n",
    "        dic_1['online_guess'].append(df1['value'][int(i)-1]* 60)\n",
    "    else :\n",
    "        dic_1['online_guess'].append(df1['value'][int(i)-1])\n",
    "df2 = pd.DataFrame(dic_1)\n",
    "\n",
    "#Joining our two data frames.\n",
    "df1=df1.join(df2)\n",
    "\n",
    "#Dropping unneccessary columns.\n",
    "df1.drop('time_unit', axis=1, inplace=True)\n",
    "df1.drop('value', axis=1, inplace=True)\n",
    "df1.drop('strength', axis=1, inplace=True)\n",
    "df1.head()"
   ]
  },
  {
   "cell_type": "markdown",
   "metadata": {},
   "source": [
    "### VISUALIZATION\n",
    "\n",
    "Now that we have a DataFrame we are comfortable with, We can visualize it. Firstly, It's of interest to know how passwords are distributed among categories.\n",
    "\n",
    "Let's make a Bar chart to see the density of each category."
   ]
  },
  {
   "cell_type": "code",
   "execution_count": 4,
   "metadata": {},
   "outputs": [
    {
     "data": {
      "text/plain": [
       "Text(0, 0.5, 'Frequency')"
      ]
     },
     "execution_count": 4,
     "metadata": {},
     "output_type": "execute_result"
    },
    {
     "data": {
      "image/png": "[encoded data removed]",
      "text/plain": [
       "<Figure size 1296x504 with 1 Axes>"
      ]
     },
     "metadata": {
      "needs_background": "light"
     },
     "output_type": "display_data"
    }
   ],
   "source": [
    "plt.figure(figsize=(18, 7))\n",
    "sns.set(style=\"whitegrid\")\n",
    "sns.countplot(df1['category'], color='green', order = df1['category'].value_counts().index)\n",
    "plt.title('Bar Chart about distribution of Categories')\n",
    "plt.xlabel('Category') \n",
    "plt.ylabel('Frequency') "
   ]
  },
  {
   "cell_type": "markdown",
   "metadata": {},
   "source": [
    "As can be seen, highest frequency of passwords fall under the category of __name__ and it is more than twice as much as the second category __cool-macho__. The difference in frequency between categories is largest here. We see relativily smaller decreases until the last category __food__."
   ]
  },
  {
   "cell_type": "code",
   "execution_count": 5,
   "metadata": {},
   "outputs": [
    {
     "data": {
      "text/html": [
       "<div>\n",
       "<style scoped>\n",
       "    .dataframe tbody tr th:only-of-type {\n",
       "        vertical-align: middle;\n",
       "    }\n",
       "\n",
       "    .dataframe tbody tr th {\n",
       "        vertical-align: top;\n",
       "    }\n",
       "\n",
       "    .dataframe thead th {\n",
       "        text-align: right;\n",
       "    }\n",
       "</style>\n",
       "<table border=\"1\" class=\"dataframe\">\n",
       "  <thead>\n",
       "    <tr style=\"text-align: right;\">\n",
       "      <th></th>\n",
       "      <th>offline_crack_sec</th>\n",
       "      <th>online_guess</th>\n",
       "    </tr>\n",
       "  </thead>\n",
       "  <tbody>\n",
       "    <tr>\n",
       "      <td>count</td>\n",
       "      <td>5.000000e+02</td>\n",
       "      <td>5.000000e+02</td>\n",
       "    </tr>\n",
       "    <tr>\n",
       "      <td>mean</td>\n",
       "      <td>5.000096e-01</td>\n",
       "      <td>5.012937e+07</td>\n",
       "    </tr>\n",
       "    <tr>\n",
       "      <td>std</td>\n",
       "      <td>2.658132e+00</td>\n",
       "      <td>2.660449e+08</td>\n",
       "    </tr>\n",
       "    <tr>\n",
       "      <td>min</td>\n",
       "      <td>1.110000e-07</td>\n",
       "      <td>1.111000e+01</td>\n",
       "    </tr>\n",
       "    <tr>\n",
       "      <td>25%</td>\n",
       "      <td>3.210000e-03</td>\n",
       "      <td>3.214080e+05</td>\n",
       "    </tr>\n",
       "    <tr>\n",
       "      <td>50%</td>\n",
       "      <td>3.210000e-03</td>\n",
       "      <td>3.214080e+05</td>\n",
       "    </tr>\n",
       "    <tr>\n",
       "      <td>75%</td>\n",
       "      <td>8.350000e-02</td>\n",
       "      <td>8.383320e+06</td>\n",
       "    </tr>\n",
       "    <tr>\n",
       "      <td>max</td>\n",
       "      <td>2.927000e+01</td>\n",
       "      <td>2.910196e+09</td>\n",
       "    </tr>\n",
       "  </tbody>\n",
       "</table>\n",
       "</div>"
      ],
      "text/plain": [
       "       offline_crack_sec  online_guess\n",
       "count       5.000000e+02  5.000000e+02\n",
       "mean        5.000096e-01  5.012937e+07\n",
       "std         2.658132e+00  2.660449e+08\n",
       "min         1.110000e-07  1.111000e+01\n",
       "25%         3.210000e-03  3.214080e+05\n",
       "50%         3.210000e-03  3.214080e+05\n",
       "75%         8.350000e-02  8.383320e+06\n",
       "max         2.927000e+01  2.910196e+09"
      ]
     },
     "execution_count": 5,
     "metadata": {},
     "output_type": "execute_result"
    }
   ],
   "source": [
    "df1[['offline_crack_sec','online_guess']].describe()"
   ]
  },
  {
   "cell_type": "markdown",
   "metadata": {},
   "source": [
    "We are interested in visualizing how columns __offline_crack_sec__ and __value_in_sec__ is distributed among categories. "
   ]
  },
  {
   "cell_type": "code",
   "execution_count": 6,
   "metadata": {},
   "outputs": [
    {
     "data": {
      "text/plain": [
       "Text(0.5, 1.0, 'Seconds it took crack password through offline cracking by each category')"
      ]
     },
     "execution_count": 6,
     "metadata": {},
     "output_type": "execute_result"
    },
    {
     "data": {
      "image/png": "[encoded data removed]",
      "text/plain": [
       "<Figure size 1296x504 with 1 Axes>"
      ]
     },
     "metadata": {},
     "output_type": "display_data"
    }
   ],
   "source": [
    "plt.figure(figsize=(18, 7))\n",
    "sns.set(style=\"whitegrid\")\n",
    "sns.barplot(x=df1['category'],y=df1['offline_crack_sec'])\n",
    "plt.title('Seconds it took crack password through offline cracking by each category')\n",
    "#ax = sns.boxplot(x=\"category\", y=\"online_guess\", data=df1)"
   ]
  },
  {
   "cell_type": "markdown",
   "metadata": {},
   "source": [
    "It's clear it took longest to crack __password-related__ passwords. It also has the highest amount of variation. The runner-up in this bar-chart is __nerdy-pop__. Other notable categories are __sport__ and __simple-aplphanumeric__.\n",
    "\n",
    "For __value_in_sec__ bar chart, y-axis will be scaled to make our comparison between 2 graphs easier. "
   ]
  },
  {
   "cell_type": "code",
   "execution_count": 7,
   "metadata": {},
   "outputs": [
    {
     "data": {
      "text/plain": [
       "Text(0.5, 1.0, 'Seconds it took crack password through online_guessing by each category')"
      ]
     },
     "execution_count": 7,
     "metadata": {},
     "output_type": "execute_result"
    },
    {
     "data": {
      "image/png": "[encoded data removed]",
      "text/plain": [
       "<Figure size 1296x504 with 1 Axes>"
      ]
     },
     "metadata": {},
     "output_type": "display_data"
    }
   ],
   "source": [
    "plt.figure(figsize=(18, 7))\n",
    "sns.set(style=\"whitegrid\")\n",
    "sns.barplot(x=df1['category'],y=df1['online_guess'])\n",
    "plt.title('Seconds it took crack password through online_guessing by each category')"
   ]
  },
  {
   "cell_type": "markdown",
   "metadata": {},
   "source": [
    "Bar plot made from __seaborn__ will scale y-axis itself. It can be seen in the top-left corner that a value of __10^8__ was chosen. \n",
    "\n",
    "Look at that! the two bar charts are almost identical. This shows the effectiveness of method used to get values in __offline_crack_sec__. It improved the speed of cracking passwords almost __10^8__ times!"
   ]
  },
  {
   "cell_type": "markdown",
   "metadata": {},
   "source": [
    "We are also interested in plotting a relationship of variable __strength__ with __online_guess__ and __offline_crack_sec__. One way of achieving our goal is to draw a scatterplot between them."
   ]
  },
  {
   "cell_type": "code",
   "execution_count": 8,
   "metadata": {
    "scrolled": true
   },
   "outputs": [
    {
     "data": {
      "text/plain": [
       "Text(0.5, 0.98, 'Relationship of strength with offline_crack_sec and online_guess with 95% Confidence Interval')"
      ]
     },
     "execution_count": 8,
     "metadata": {},
     "output_type": "execute_result"
    },
    {
     "data": {
      "image/png": "[encoded data removed]",
      "text/plain": [
       "<Figure size 792x324 with 2 Axes>"
      ]
     },
     "metadata": {},
     "output_type": "display_data"
    }
   ],
   "source": [
    "f, axes = plt.subplots(1, 2,figsize=(11,4.5))\n",
    "sns.regplot(x='offline_crack_sec',y='strength_',data=df1,color='green',ax=axes[0])\n",
    "sns.regplot(x='online_guess',y='strength_',data=df1,color='red',ax=axes[1])\n",
    "f. tight_layout(pad=3.0)\n",
    "f.suptitle('Relationship of strength with offline_crack_sec and online_guess with 95% Confidence Interval')"
   ]
  },
  {
   "cell_type": "markdown",
   "metadata": {},
   "source": [
    "As it was expected, The two plots are almost identical with __online_guess__ axis scaled to 10^9. However, looking at these plots, there seems to be no relationship between strength and any of these variables. It seems ability to crack password early or late has little to do with its strength. "
   ]
  }
 ],
 "metadata": {
  "kernelspec": {
   "display_name": "Python 3",
   "language": "python",
   "name": "python3"
  },
  "language_info": {
   "codemirror_mode": {
    "name": "ipython",
    "version": 3
   },
   "file_extension": ".py",
   "mimetype": "text/x-python",
   "name": "python",
   "nbconvert_exporter": "python",
   "pygments_lexer": "ipython3",
   "version": "3.7.4"
  }
 },
 "nbformat": 4,
 "nbformat_minor": 2
}
